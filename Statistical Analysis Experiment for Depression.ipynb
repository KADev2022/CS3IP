{
 "cells": [
  {
   "cell_type": "markdown",
   "id": "7e64292d",
   "metadata": {},
   "source": [
    "# Statistical Analysis Experiment for Depression\n",
    "\n",
    "This notebook will produce the results for the statistical analysis experiment of my final year project \"<i>Statistical Analysis for Detection Depression</i>\". The statistical analysis method used for this project is descriptive analysis.<br><br>\n",
    "\n",
    "The descriptive analysis technique has two types which are <mark><b>central tendency</b></mark> and <mark><b>variability</b></mark>. For this project, it will use the central tendency methods: mean, median, mode, maximum, and minimum and variability methods: standard deviation and variance.<br><br>\n",
    "\n",
    "Deliverable requirements for statistical analysis experiment:\n",
    "- [ ] Use descriptive analysis on the MADRS score data to analyse the central tendency and variability of the number of days all patients have measured\n",
    "- [ ] In the MADRS score data, separate into two dataframes for depressed and non-depressed patients using descriptive analysis to analyse the central tendency and variability of the number of days they measured\n",
    "- [ ] Calculate the difference in the MADRS score for the depressed patients\n",
    "- [ ] Use descriptive analysis to analyse the MADRS score at the start and end of measurement and its difference for patients with depression\n",
    "- [ ] Use data visualisation to show the MADRS score for all depressed patients\n",
    "- [ ] Use data visualisation to show the number of days that depressed and non-depressed patients have measured"
   ]
  },
  {
   "cell_type": "code",
   "execution_count": null,
   "id": "6ab97158",
   "metadata": {},
   "outputs": [],
   "source": []
  }
 ],
 "metadata": {
  "kernelspec": {
   "display_name": "Python 3 (ipykernel)",
   "language": "python",
   "name": "python3"
  },
  "language_info": {
   "codemirror_mode": {
    "name": "ipython",
    "version": 3
   },
   "file_extension": ".py",
   "mimetype": "text/x-python",
   "name": "python",
   "nbconvert_exporter": "python",
   "pygments_lexer": "ipython3",
   "version": "3.11.4"
  }
 },
 "nbformat": 4,
 "nbformat_minor": 5
}
